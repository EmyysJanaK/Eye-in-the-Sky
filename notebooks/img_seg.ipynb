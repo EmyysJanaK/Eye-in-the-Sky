{
 "cells": [
  {
   "cell_type": "markdown",
   "metadata": {},
   "source": [
    "# Import Required Libraries\n",
    "Import the necessary libraries, including OpenCV and Matplotlib."
   ]
  },
  {
   "cell_type": "code",
   "execution_count": null,
   "metadata": {},
   "outputs": [],
   "source": [
    "import cv2\n",
    "import matplotlib.pyplot as plt\n",
    "import numpy as np\n",
    "\n",
    "print(\"Libraries imported successfully.\")"
   ]
  },
  {
   "cell_type": "markdown",
   "metadata": {},
   "source": [
    "# Load and Display the Image\n",
    "Load the image using OpenCV and display it using Matplotlib."
   ]
  },
  {
   "cell_type": "code",
   "execution_count": null,
   "metadata": {},
   "outputs": [],
   "source": [
    "image = cv2.imread('path_to_your_image.jpg')\n",
    "\n",
    "image_rgb = cv2.cvtColor(image, cv2.COLOR_BGR2RGB)\n",
    "\n",
    "# image \n",
    "plt.figure(figsize=(10, 6))\n",
    "plt.imshow(image_rgb)\n",
    "plt.title('Loaded Image')\n",
    "plt.axis('off')  # Hide the axis\n",
    "plt.show()"
   ]
  },
  {
   "cell_type": "markdown",
   "metadata": {},
   "source": [
    "# Convert Image to Grayscale\n",
    "Convert the loaded image to grayscale using OpenCV."
   ]
  },
  {
   "cell_type": "code",
   "execution_count": null,
   "metadata": {},
   "outputs": [],
   "source": [
    "# image to grayscale\n",
    "image_gray = cv2.cvtColor(image, cv2.COLOR_BGR2GRAY)\n",
    "\n",
    "plt.figure(figsize=(10, 6))\n",
    "plt.imshow(image_gray, cmap='gray')\n",
    "plt.title('Grayscale Image')\n",
    "plt.axis('off')  # Hide the axis\n",
    "plt.show()"
   ]
  },
  {
   "cell_type": "markdown",
   "metadata": {},
   "source": [
    "# Apply Thresholding\n",
    "Apply thresholding to the grayscale image to create a binary image."
   ]
  },
  {
   "cell_type": "code",
   "execution_count": null,
   "metadata": {},
   "outputs": [],
   "source": [
    "_, binary_image = cv2.threshold(image_gray, 127, 255, cv2.THRESH_BINARY)\n",
    "\n",
    "\n",
    "plt.figure(figsize=(10, 6))\n",
    "plt.imshow(binary_image, cmap='gray')\n",
    "plt.title('Binary Image')\n",
    "plt.axis('off')  # Hide the axis\n",
    "plt.show()"
   ]
  },
  {
   "cell_type": "markdown",
   "metadata": {},
   "source": [
    "# Perform Edge Detection\n",
    "Use Canny edge detection to find edges in the binary image."
   ]
  },
  {
   "cell_type": "code",
   "execution_count": null,
   "metadata": {},
   "outputs": [],
   "source": [
    "edges = cv2.Canny(binary_image, 100, 200)\n",
    "\n",
    "# Display the edges \n",
    "plt.figure(figsize=(10, 6))\n",
    "plt.imshow(edges, cmap='gray')\n",
    "plt.title('Edge Detection using Canny')\n",
    "plt.axis('off')  # Hide the axis\n",
    "plt.show()"
   ]
  },
  {
   "cell_type": "markdown",
   "metadata": {},
   "source": [
    "# Segment the Image Using Contours\n",
    "Find and draw contours on the original image to segment it."
   ]
  },
  {
   "cell_type": "code",
   "execution_count": null,
   "metadata": {},
   "outputs": [],
   "source": [
    "contours, _ = cv2.findContours(binary_image, cv2.RETR_TREE, cv2.CHAIN_APPROX_SIMPLE)\n",
    "\n",
    "image_with_contours = image_rgb.copy()\n",
    "cv2.drawContours(image_with_contours, contours, -1, (0, 255, 0), 2)\n",
    "\n",
    "# image with contours \n",
    "plt.figure(figsize=(10, 6))\n",
    "plt.imshow(image_with_contours)\n",
    "plt.title('Image with Contours')\n",
    "plt.axis('off')  \n",
    "plt.show()"
   ]
  }
 ],
 "metadata": {
  "language_info": {
   "name": "python"
  }
 },
 "nbformat": 4,
 "nbformat_minor": 2
}
